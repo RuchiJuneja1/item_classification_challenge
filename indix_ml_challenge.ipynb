{
 "cells": [
  {
   "cell_type": "markdown",
   "metadata": {},
   "source": [
    "# Item Classification Problem"
   ]
  },
  {
   "cell_type": "code",
   "execution_count": 1,
   "metadata": {},
   "outputs": [],
   "source": [
    "import pandas as pd\n",
    "import re\n",
    "from sklearn.model_selection import StratifiedKFold\n",
    "from sklearn.model_selection import GridSearchCV\n",
    "import cPickle\n",
    "from sklearn.svm import LinearSVC\n",
    "from sklearn import metrics\n",
    "import numpy as np\n",
    "import matplotlib.pyplot as plt\n",
    "from sklearn.decomposition import PCA\n",
    "from sklearn.metrics import accuracy_score"
   ]
  },
  {
   "cell_type": "code",
   "execution_count": 2,
   "metadata": {},
   "outputs": [],
   "source": [
    "# load training data\n",
    "data = pd.read_csv(\"bmv_training_set.csv\")"
   ]
  },
  {
   "cell_type": "code",
   "execution_count": 3,
   "metadata": {},
   "outputs": [],
   "source": [
    "# extract keys from attributes key-value pairs and store them in a new column\n",
    "data['attribute_list']=[[re.split(\"[=:=]\", str(i))[0] for i in attributes] for attributes\n",
    "                        in data['additionalAttributes'].str.split(\";\")]\n",
    "\n",
    "data['attributes_new'] = data.apply(lambda row : \"|\".join(str(code).lower() for code in list(set(row['attribute_list'])) \n",
    "                                                          if any(j.isdigit() for j in code)==False \n",
    "                                                          and \"{\" not in str(code) \n",
    "                                                          and \"}\" not in str(code)\n",
    "                                                          and \"rank\" not in str(code).lower()\n",
    "                                                          and \"shipping\" not in str(code).lower()\n",
    "                                                          and \"dimensions\" not in str(code).lower()\n",
    "                                                          and \"weight\" not in str(code).lower()\n",
    "                                                          and \"review\" not in str(code).lower()\n",
    "                                                          and \"sold\" not in str(code).lower()\n",
    "                                                          and \"warranty\" not in str(code).lower()\n",
    "                                                          and \"gender\" not in str(code).lower()\n",
    "                                                          and \"no.\" not in str(code).lower()\n",
    "                                                          and \"etc.\" not in str(code).lower()\n",
    "                                                          and \"misc.\" not in str(code).lower()\n",
    "                                                         ), axis = 1)"
   ]
  },
  {
   "cell_type": "raw",
   "metadata": {
    "collapsed": true
   },
   "source": [
    "# check unique keys across multiple categories to remove unwanted keys on a broader level (done in previous step) \n",
    "def get_set_of_fields(key):\n",
    "    return \",\".join(str(code) for code in list(set(key)))\n",
    "\n",
    "agg_data = data.groupby(data['label'])['attributes_new'].agg(lambda x: get_set_of_fields(x))\n",
    "attributes = [i for i in list(set(agg_data[0].split(\"|\")))]\n",
    "print(attributes)"
   ]
  },
  {
   "cell_type": "raw",
   "metadata": {},
   "source": [
    "#  Attribute selection:\n",
    "\n",
    "After exploring keys from different categories, it was observed that there are specific keys corresponding to \n",
    "particular category types. Eg : books would have publishing date, paperback, pages, etc.\n",
    "In this challenge, we need to focus on 3 categories(books, music, videos), their keys are important for classification."
   ]
  },
  {
   "cell_type": "code",
   "execution_count": 4,
   "metadata": {},
   "outputs": [],
   "source": [
    "# converting keys of 3 categories(books, music, videos) into dummy columns \n",
    "df1 = pd.DataFrame(data.loc[data['label'].isin(['books','music','videos']),'attributes_new'])\n",
    "main_categories = df1['attributes_new'].str.get_dummies()"
   ]
  },
  {
   "cell_type": "code",
   "execution_count": 5,
   "metadata": {},
   "outputs": [],
   "source": [
    "# selecting only those keys from \"rest\" cateogry which are present in any of the above extracted keys. \n",
    "# This would also reduce the number of features\n",
    "\n",
    "def get_list(row):\n",
    "    return \"|\".join(str(i) for i in row['attributes_new'].split(\"|\") if i in list(main_categories))\n",
    "\n",
    "\n",
    "df_rest = pd.DataFrame(data.loc[data['label'].isin(['rest']),'attributes_new'])\n",
    "df_rest[\"attributes_new\"] = df_rest.apply(lambda row: get_list(row), axis = 1)\n",
    "df_rest = df_rest['attributes_new'].str.get_dummies()"
   ]
  },
  {
   "cell_type": "code",
   "execution_count": 6,
   "metadata": {},
   "outputs": [],
   "source": [
    "# creating train and output labels for training data\n",
    "train = pd.concat([main_categories,df_rest])\n",
    "train = train.sort_index()\n",
    "train = train.fillna(0)\n",
    "output_labels = pd.DataFrame(data.iloc[:,-3])"
   ]
  },
  {
   "cell_type": "code",
   "execution_count": 7,
   "metadata": {},
   "outputs": [],
   "source": [
    "# storing these data frame for refernce\n",
    "train.to_csv(\"train.csv\", index = False)\n",
    "output_labels.to_csv(\"output_labels.csv\", index = False)"
   ]
  },
  {
   "cell_type": "code",
   "execution_count": 8,
   "metadata": {},
   "outputs": [
    {
     "name": "stdout",
     "output_type": "stream",
     "text": [
      "('The best classifier is: ', LinearSVC(C=1.0, class_weight='balanced', dual=True, fit_intercept=True,\n",
      "     intercept_scaling=1, loss='squared_hinge', max_iter=1000,\n",
      "     multi_class='ovr', penalty='l2', random_state=None, tol=0.0001,\n",
      "     verbose=0))\n"
     ]
    }
   ],
   "source": [
    "# apply cross validation to tune hyperparameters\n",
    "\n",
    "def get_best_param(train,output_labels):\n",
    "    C_range = 10.0 ** np.arange(-2, 1)\n",
    "    parameters = {'C':C_range, 'class_weight':['balanced']}\n",
    "    cv = StratifiedKFold(n_splits=5)\n",
    "    grid = GridSearchCV(LinearSVC(), parameters)\n",
    "    grid.fit(train, output_labels['label'])\n",
    "    print(\"The best classifier is: \", grid.best_estimator_)\n",
    "    \n",
    "get_best_param(train, output_labels)"
   ]
  },
  {
   "cell_type": "code",
   "execution_count": 9,
   "metadata": {},
   "outputs": [],
   "source": [
    "# training the model and store it into pickle file\n",
    "\n",
    "clf = LinearSVC(random_state=0, class_weight = 'balanced', C=1.0)\n",
    "clf.fit(train, output_labels['label'])\n",
    "with open('classifier_rf.pkl', 'wb') as fid:\n",
    "    cPickle.dump(clf, fid)"
   ]
  },
  {
   "cell_type": "code",
   "execution_count": 10,
   "metadata": {},
   "outputs": [
    {
     "name": "stdout",
     "output_type": "stream",
     "text": [
      "['books', 'music', 'rest', 'videos']\n",
      "[[ 23023   4752    144      5]\n",
      " [     2  22996    122    204]\n",
      " [    64     58 225244     10]\n",
      " [     2   4552    347  18475]]\n"
     ]
    }
   ],
   "source": [
    "# getting confusion matrix for training data\n",
    "\n",
    "labels = list(set(output_labels['label']))  \n",
    "labels.sort()\n",
    "y_pred = clf.predict(train)\n",
    "cm = metrics.confusion_matrix(output_labels, y_pred,labels)\n",
    "print labels\n",
    "print cm"
   ]
  },
  {
   "cell_type": "code",
   "execution_count": 11,
   "metadata": {},
   "outputs": [
    {
     "data": {
      "text/plain": [
       "0.9657933333333333"
      ]
     },
     "execution_count": 11,
     "metadata": {},
     "output_type": "execute_result"
    }
   ],
   "source": [
    "# insample accuracy\n",
    "accuracy_score(output_labels, y_pred)"
   ]
  },
  {
   "cell_type": "code",
   "execution_count": 12,
   "metadata": {},
   "outputs": [],
   "source": [
    "# loading test file and preparing data for test\n",
    "\n",
    "test_data_file = pd.read_csv(\"bmv_test_set.csv\", header = [0])\n",
    "test_data_file_backup = test_data_file\n",
    "\n",
    "test_data_file['attribute_list']=[[re.split(\"[=:=]\", str(i))[0] for i in attributes] for attributes\n",
    "                    in test_data_file['additionalAttributes'].str.split(\";\")]\n",
    "test_data_file['attributes_new'] = test_data_file.apply(lambda row : \"|\".join(str(code).lower() for code in list(set(row['attribute_list']))\n",
    "                                                                              if code in list(main_categories)), axis = 1)\n",
    "test_data_file = pd.concat([test_data_file,pd.DataFrame(index=test_data_file.index, columns=list(main_categories))],\n",
    "                           axis=1)"
   ]
  },
  {
   "cell_type": "code",
   "execution_count": 13,
   "metadata": {},
   "outputs": [],
   "source": [
    "# getting values for dummy variable and running classification model on the same\n",
    "\n",
    "def get_dummy_values(row):\n",
    "    if len(row['attributes_new']) == 0:\n",
    "        return\n",
    "    for i in row['attributes_new'].split(\"|\"):\n",
    "        test_data_file.loc[(test_data_file['id'] == row['id']),i] = 1\n",
    "\n",
    "test_data_file.apply(lambda row : get_dummy_values(row), axis = 1)\n",
    "\n",
    "test_data_file.fillna(0, inplace = True)\n",
    "test_data_file = test_data_file.drop(['id','additionalAttributes','attribute_list','attributes_new'], axis = 1)\n",
    "test_pred = clf.predict(test_data_file)"
   ]
  },
  {
   "cell_type": "code",
   "execution_count": 14,
   "metadata": {},
   "outputs": [],
   "source": [
    "test_data_file_backup = test_data_file_backup.join(pd.DataFrame(test_pred).rename(columns = {0:'label'}))\n",
    "test_data_file_backup.drop(['attribute_list','attributes_new'], axis = 1, inplace = True)\n",
    "test_data_file_backup.to_csv(\"submission.csv\")"
   ]
  }
 ],
 "metadata": {
  "kernelspec": {
   "display_name": "Python 2",
   "language": "python",
   "name": "python2"
  },
  "language_info": {
   "codemirror_mode": {
    "name": "ipython",
    "version": 2
   },
   "file_extension": ".py",
   "mimetype": "text/x-python",
   "name": "python",
   "nbconvert_exporter": "python",
   "pygments_lexer": "ipython2",
   "version": "2.7.12"
  }
 },
 "nbformat": 4,
 "nbformat_minor": 2
}
